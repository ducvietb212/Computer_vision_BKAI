{
  "nbformat": 4,
  "nbformat_minor": 0,
  "metadata": {
    "colab": {
      "provenance": []
    },
    "kernelspec": {
      "name": "python3",
      "display_name": "Python 3"
    },
    "language_info": {
      "name": "python"
    }
  },
  "cells": [
    {
      "cell_type": "markdown",
      "source": [
        "Logistic Regression"
      ],
      "metadata": {
        "id": "IOY2rkiG71bL"
      }
    },
    {
      "cell_type": "code",
      "source": [
        "if (1>0)==1:\n",
        "  print('Hello')"
      ],
      "metadata": {
        "colab": {
          "base_uri": "https://localhost:8080/"
        },
        "id": "K9hSD32Ju_f2",
        "outputId": "a44358db-4227-4ced-b5b2-c735678a36ae"
      },
      "execution_count": null,
      "outputs": [
        {
          "output_type": "stream",
          "name": "stdout",
          "text": [
            "Hello\n"
          ]
        }
      ]
    },
    {
      "cell_type": "code",
      "source": [
        "import numpy as np\n",
        "import matplotlib.pyplot as plt\n",
        "\n",
        "X = np.array([[0.50, 0.75, 1.00, 1.25, 1.50, 1.75, 1.75, 2.00, 2.25, 2.50,\n",
        "              2.75, 3.00, 3.25, 3.50, 4.00, 4.25, 4.50, 4.75, 5.00, 5.50]])\n",
        "y = np.array([0, 0, 0, 0, 0, 0, 1, 0, 1, 0, 1, 0, 1, 0, 1, 1, 1, 1, 1, 1])\n",
        "\n",
        "one = np.ones((1, X.shape[1]))\n",
        "Xbar = np.concatenate((X, one), axis = 0)\n",
        "\n",
        "def sigmoid(s):\n",
        "    return 1/(1 + np.exp(-s))\n",
        "\n",
        "def logistic_regression(w_init, X, y, lr):\n",
        "  w = w_init\n",
        "  d = X.shape[0]\n",
        "  N = X.shape[1]\n",
        "  for j in range (10000):\n",
        "   id = np.random.permutation(N)\n",
        "   for i in range (N):\n",
        "     xi = X[:,id[i]].reshape(d,1)\n",
        "     yi = y[id[i]]\n",
        "     zi = sigmoid(np.dot(w.T, xi))\n",
        "     w = w +lr*(yi - zi) * xi\n",
        "  return w\n",
        "\n",
        "w = np.random.randn(Xbar.shape[0],1)\n",
        "w_ans = logistic_regression(w, Xbar, y, 0.02)\n",
        "\n",
        "print(w_ans)\n",
        "print(sigmoid(w_ans.T.dot(Xbar)))\n",
        "\n",
        "x_1 = []\n",
        "x_2 = []\n",
        "y_1 = []\n",
        "y_2 = []\n",
        "\n",
        "for i in range(X.shape[1]):\n",
        "  if y[i] == 1:\n",
        "    x_1.append(X[0][i])\n",
        "    y_1.append(y[i])\n",
        "  else:\n",
        "    x_2.append(X[0][i])\n",
        "    y_2.append(y[i])\n",
        "\n",
        "xx = np.linspace(0,6,1000)\n",
        "yy = sigmoid(w_ans[0][0]*xx + w_ans[1][0])\n",
        "plt.plot(x_1,y_1,'go')\n",
        "plt.plot(x_2,y_2,'ro')\n",
        "plt.plot(xx,yy)\n",
        "plt.axis([-2,8,-1,2])\n",
        "\n",
        "\n",
        "\n"
      ],
      "metadata": {
        "colab": {
          "base_uri": "https://localhost:8080/",
          "height": 556
        },
        "id": "A4qyc3h974Ps",
        "outputId": "770e0da8-1058-4074-d7d4-24655630041f"
      },
      "execution_count": null,
      "outputs": [
        {
          "output_type": "stream",
          "name": "stdout",
          "text": [
            "[[ 1.48588448]\n",
            " [-4.08494267]]\n",
            "[[0.0341581  0.04877516 0.06919906 0.09730037 0.13515641 0.18472687\n",
            "  0.18472687 0.24727968 0.32263195 0.40848509 0.50030991 0.59211383\n",
            "  0.67790964 0.7531815  0.86513313 0.90291718 0.93096046 0.95133974\n",
            "  0.9659236  0.98349456]]\n"
          ]
        },
        {
          "output_type": "execute_result",
          "data": {
            "text/plain": [
              "(-2.0, 8.0, -1.0, 2.0)"
            ]
          },
          "metadata": {},
          "execution_count": 4
        },
        {
          "output_type": "display_data",
          "data": {
            "text/plain": [
              "<Figure size 640x480 with 1 Axes>"
            ],
            "image/png": "[encoded data removed]"
          },
          "metadata": {}
        }
      ]
    },
    {
      "cell_type": "code",
      "source": [
        "import numpy as np\n",
        "\n",
        "view_ids = np.hstack((np.arange(1, 8), np.arange(14, 21)))\n",
        "print(view_ids)"
      ],
      "metadata": {
        "colab": {
          "base_uri": "https://localhost:8080/"
        },
        "id": "CHWEDOmO6b7m",
        "outputId": "fb53d3e7-3f53-4021-b9fa-6eb31659e50c"
      },
      "execution_count": null,
      "outputs": [
        {
          "output_type": "stream",
          "name": "stdout",
          "text": [
            "[ 1  2  3  4  5  6  7 14 15 16 17 18 19 20]\n"
          ]
        }
      ]
    }
  ]
}